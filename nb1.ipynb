{
 "cells": [
  {
   "cell_type": "code",
   "execution_count": 57,
   "id": "c17b60f8-e0b5-4dd2-89e4-4e465b885403",
   "metadata": {},
   "outputs": [],
   "source": [
    "import pandas as pd\n",
    "import numpy as np\n",
    "import warnings\n",
    "warnings.filterwarnings(\"ignore\")\n",
    "\n",
    "pd.set_option('display.max_columns', None)\n",
    "\n",
    "import matplotlib.pyplot as plt\n",
    "import seaborn as sns"
   ]
  },
  {
   "cell_type": "code",
   "execution_count": 7,
   "id": "a1a70e1c-85ce-43ad-945a-d7ff3d902375",
   "metadata": {},
   "outputs": [],
   "source": [
    "customers = pd.read_csv('customers2afd6ea.csv')\n",
    "reasons = pd.read_csv('reason18315ff.csv')\n",
    "sentiments = pd.read_csv('sentiment_statisticscc1e57a.csv')\n",
    "test = pd.read_csv('testbc7185d.csv')"
   ]
  },
  {
   "cell_type": "code",
   "execution_count": 8,
   "id": "b2ed5709-8612-4179-8e5a-aa48127354d8",
   "metadata": {},
   "outputs": [],
   "source": [
    "calls = pd.read_csv('callsf0d4f5a.csv')"
   ]
  },
  {
   "cell_type": "code",
   "execution_count": 9,
   "id": "bf98264d-aec0-41c0-b763-d8d0bda02708",
   "metadata": {},
   "outputs": [
    {
     "name": "stdout",
     "output_type": "stream",
     "text": [
      "<class 'pandas.core.frame.DataFrame'>\n",
      "RangeIndex: 71810 entries, 0 to 71809\n",
      "Data columns (total 7 columns):\n",
      " #   Column                   Non-Null Count  Dtype \n",
      "---  ------                   --------------  ----- \n",
      " 0   call_id                  71810 non-null  int64 \n",
      " 1   customer_id              71810 non-null  int64 \n",
      " 2   agent_id                 71810 non-null  int64 \n",
      " 3   call_start_datetime      71810 non-null  object\n",
      " 4   agent_assigned_datetime  71810 non-null  object\n",
      " 5   call_end_datetime        71810 non-null  object\n",
      " 6   call_transcript          71810 non-null  object\n",
      "dtypes: int64(3), object(4)\n",
      "memory usage: 3.8+ MB\n"
     ]
    },
    {
     "data": {
      "text/plain": [
       "call_id                    0\n",
       "customer_id                0\n",
       "agent_id                   0\n",
       "call_start_datetime        0\n",
       "agent_assigned_datetime    0\n",
       "call_end_datetime          0\n",
       "call_transcript            0\n",
       "dtype: int64"
      ]
     },
     "execution_count": 9,
     "metadata": {},
     "output_type": "execute_result"
    }
   ],
   "source": [
    "calls.info()\n",
    "calls.isnull().sum()"
   ]
  },
  {
   "cell_type": "code",
   "execution_count": 10,
   "id": "f9191061-74f7-4888-bc80-5a0abfc002b6",
   "metadata": {},
   "outputs": [],
   "source": [
    "calls['call_start_datetime'] = pd.to_datetime(calls['call_start_datetime'])\n",
    "calls['agent_assigned_datetime'] = pd.to_datetime(calls['agent_assigned_datetime'])\n",
    "calls['call_end_datetime'] = pd.to_datetime(calls['call_end_datetime'])\n",
    "calls['call_duration'] = (calls['call_end_datetime'] - calls['agent_assigned_datetime']).dt.total_seconds()\n",
    "calls['wait_time'] = (calls['agent_assigned_datetime'] - calls['call_start_datetime']).dt.total_seconds()"
   ]
  },
  {
   "cell_type": "code",
   "execution_count": 11,
   "id": "71be23e9-f5c6-49a5-ae74-e1f672dbe770",
   "metadata": {},
   "outputs": [
    {
     "data": {
      "text/html": [
       "<div>\n",
       "<style scoped>\n",
       "    .dataframe tbody tr th:only-of-type {\n",
       "        vertical-align: middle;\n",
       "    }\n",
       "\n",
       "    .dataframe tbody tr th {\n",
       "        vertical-align: top;\n",
       "    }\n",
       "\n",
       "    .dataframe thead th {\n",
       "        text-align: right;\n",
       "    }\n",
       "</style>\n",
       "<table border=\"1\" class=\"dataframe\">\n",
       "  <thead>\n",
       "    <tr style=\"text-align: right;\">\n",
       "      <th></th>\n",
       "      <th>call_id</th>\n",
       "      <th>customer_id</th>\n",
       "      <th>agent_id</th>\n",
       "      <th>call_start_datetime</th>\n",
       "      <th>agent_assigned_datetime</th>\n",
       "      <th>call_end_datetime</th>\n",
       "      <th>call_transcript</th>\n",
       "      <th>call_duration</th>\n",
       "      <th>wait_time</th>\n",
       "    </tr>\n",
       "  </thead>\n",
       "  <tbody>\n",
       "    <tr>\n",
       "      <th>0</th>\n",
       "      <td>4667960400</td>\n",
       "      <td>2033123310</td>\n",
       "      <td>963118</td>\n",
       "      <td>2024-07-31 23:56:00</td>\n",
       "      <td>2024-08-01 00:03:00</td>\n",
       "      <td>2024-08-01 00:34:00</td>\n",
       "      <td>\\n\\nAgent: Thank you for calling United Airlin...</td>\n",
       "      <td>1860.0</td>\n",
       "      <td>420.0</td>\n",
       "    </tr>\n",
       "    <tr>\n",
       "      <th>1</th>\n",
       "      <td>1122072124</td>\n",
       "      <td>8186702651</td>\n",
       "      <td>519057</td>\n",
       "      <td>2024-08-01 00:03:00</td>\n",
       "      <td>2024-08-01 00:06:00</td>\n",
       "      <td>2024-08-01 00:18:00</td>\n",
       "      <td>\\n\\nAgent: Thank you for calling United Airlin...</td>\n",
       "      <td>720.0</td>\n",
       "      <td>180.0</td>\n",
       "    </tr>\n",
       "    <tr>\n",
       "      <th>2</th>\n",
       "      <td>6834291559</td>\n",
       "      <td>2416856629</td>\n",
       "      <td>158319</td>\n",
       "      <td>2024-07-31 23:59:00</td>\n",
       "      <td>2024-08-01 00:07:00</td>\n",
       "      <td>2024-08-01 00:26:00</td>\n",
       "      <td>\\n\\nAgent: Thank you for calling United Airlin...</td>\n",
       "      <td>1140.0</td>\n",
       "      <td>480.0</td>\n",
       "    </tr>\n",
       "    <tr>\n",
       "      <th>3</th>\n",
       "      <td>2266439882</td>\n",
       "      <td>1154544516</td>\n",
       "      <td>488324</td>\n",
       "      <td>2024-08-01 00:05:00</td>\n",
       "      <td>2024-08-01 00:10:00</td>\n",
       "      <td>2024-08-01 00:17:00</td>\n",
       "      <td>\\n\\nAgent: Thank you for calling United Airlin...</td>\n",
       "      <td>420.0</td>\n",
       "      <td>300.0</td>\n",
       "    </tr>\n",
       "    <tr>\n",
       "      <th>4</th>\n",
       "      <td>1211603231</td>\n",
       "      <td>5214456437</td>\n",
       "      <td>721730</td>\n",
       "      <td>2024-08-01 00:04:00</td>\n",
       "      <td>2024-08-01 00:14:00</td>\n",
       "      <td>2024-08-01 00:23:00</td>\n",
       "      <td>\\n\\nAgent: Thank you for calling United Airlin...</td>\n",
       "      <td>540.0</td>\n",
       "      <td>600.0</td>\n",
       "    </tr>\n",
       "  </tbody>\n",
       "</table>\n",
       "</div>"
      ],
      "text/plain": [
       "      call_id  customer_id  agent_id call_start_datetime  \\\n",
       "0  4667960400   2033123310    963118 2024-07-31 23:56:00   \n",
       "1  1122072124   8186702651    519057 2024-08-01 00:03:00   \n",
       "2  6834291559   2416856629    158319 2024-07-31 23:59:00   \n",
       "3  2266439882   1154544516    488324 2024-08-01 00:05:00   \n",
       "4  1211603231   5214456437    721730 2024-08-01 00:04:00   \n",
       "\n",
       "  agent_assigned_datetime   call_end_datetime  \\\n",
       "0     2024-08-01 00:03:00 2024-08-01 00:34:00   \n",
       "1     2024-08-01 00:06:00 2024-08-01 00:18:00   \n",
       "2     2024-08-01 00:07:00 2024-08-01 00:26:00   \n",
       "3     2024-08-01 00:10:00 2024-08-01 00:17:00   \n",
       "4     2024-08-01 00:14:00 2024-08-01 00:23:00   \n",
       "\n",
       "                                     call_transcript  call_duration  wait_time  \n",
       "0  \\n\\nAgent: Thank you for calling United Airlin...         1860.0      420.0  \n",
       "1  \\n\\nAgent: Thank you for calling United Airlin...          720.0      180.0  \n",
       "2  \\n\\nAgent: Thank you for calling United Airlin...         1140.0      480.0  \n",
       "3  \\n\\nAgent: Thank you for calling United Airlin...          420.0      300.0  \n",
       "4  \\n\\nAgent: Thank you for calling United Airlin...          540.0      600.0  "
      ]
     },
     "execution_count": 11,
     "metadata": {},
     "output_type": "execute_result"
    }
   ],
   "source": [
    "calls.head()"
   ]
  },
  {
   "cell_type": "code",
   "execution_count": 12,
   "id": "d30227bc-9339-4c3f-94c3-caea7d6395fd",
   "metadata": {},
   "outputs": [
    {
     "name": "stdout",
     "output_type": "stream",
     "text": [
      "<class 'pandas.core.frame.DataFrame'>\n",
      "RangeIndex: 71810 entries, 0 to 71809\n",
      "Data columns (total 6 columns):\n",
      " #   Column                   Non-Null Count  Dtype  \n",
      "---  ------                   --------------  -----  \n",
      " 0   call_id                  71810 non-null  int64  \n",
      " 1   agent_id                 71810 non-null  int64  \n",
      " 2   agent_tone               71593 non-null  object \n",
      " 3   customer_tone            71810 non-null  object \n",
      " 4   average_sentiment        71701 non-null  float64\n",
      " 5   silence_percent_average  71810 non-null  float64\n",
      "dtypes: float64(2), int64(2), object(2)\n",
      "memory usage: 3.3+ MB\n"
     ]
    },
    {
     "data": {
      "text/plain": [
       "call_id                      0\n",
       "agent_id                     0\n",
       "agent_tone                 217\n",
       "customer_tone                0\n",
       "average_sentiment          109\n",
       "silence_percent_average      0\n",
       "dtype: int64"
      ]
     },
     "execution_count": 12,
     "metadata": {},
     "output_type": "execute_result"
    }
   ],
   "source": [
    "sentiments.info()\n",
    "sentiments.isnull().sum()"
   ]
  },
  {
   "cell_type": "code",
   "execution_count": 13,
   "id": "83f1f3e3-988b-492f-bbbc-65e1a8f5474f",
   "metadata": {},
   "outputs": [
    {
     "name": "stdout",
     "output_type": "stream",
     "text": [
      "<class 'pandas.core.frame.DataFrame'>\n",
      "RangeIndex: 66653 entries, 0 to 66652\n",
      "Data columns (total 2 columns):\n",
      " #   Column               Non-Null Count  Dtype \n",
      "---  ------               --------------  ----- \n",
      " 0   call_id              66653 non-null  int64 \n",
      " 1   primary_call_reason  66653 non-null  object\n",
      "dtypes: int64(1), object(1)\n",
      "memory usage: 1.0+ MB\n"
     ]
    },
    {
     "data": {
      "text/plain": [
       "call_id                0\n",
       "primary_call_reason    0\n",
       "dtype: int64"
      ]
     },
     "execution_count": 13,
     "metadata": {},
     "output_type": "execute_result"
    }
   ],
   "source": [
    "reasons.info()\n",
    "reasons.isnull().sum()"
   ]
  },
  {
   "cell_type": "code",
   "execution_count": 14,
   "id": "b230235a-9708-442b-b8ff-853b70c40f6c",
   "metadata": {},
   "outputs": [
    {
     "name": "stdout",
     "output_type": "stream",
     "text": [
      "<class 'pandas.core.frame.DataFrame'>\n",
      "RangeIndex: 71810 entries, 0 to 71809\n",
      "Data columns (total 3 columns):\n",
      " #   Column            Non-Null Count  Dtype  \n",
      "---  ------            --------------  -----  \n",
      " 0   customer_id       71810 non-null  int64  \n",
      " 1   customer_name     71810 non-null  object \n",
      " 2   elite_level_code  46043 non-null  float64\n",
      "dtypes: float64(1), int64(1), object(1)\n",
      "memory usage: 1.6+ MB\n"
     ]
    },
    {
     "data": {
      "text/plain": [
       "customer_id             0\n",
       "customer_name           0\n",
       "elite_level_code    25767\n",
       "dtype: int64"
      ]
     },
     "execution_count": 14,
     "metadata": {},
     "output_type": "execute_result"
    }
   ],
   "source": [
    "customers.info()\n",
    "customers.isnull().sum()"
   ]
  },
  {
   "cell_type": "code",
   "execution_count": 15,
   "id": "bdf74867-2ee9-418d-ac2f-79bd169c8f13",
   "metadata": {},
   "outputs": [],
   "source": [
    "df = pd.merge(calls, sentiments, on=['call_id', 'agent_id'], how='left')\n",
    "df = pd.merge(df, reasons, on='call_id', how='left')\n",
    "df = pd.merge(df, customers, on='customer_id', how='left')"
   ]
  },
  {
   "cell_type": "code",
   "execution_count": 16,
   "id": "3a7d807c-ef19-41b3-b9d1-58c0a31b457a",
   "metadata": {},
   "outputs": [
    {
     "data": {
      "text/plain": [
       "call_id                        0\n",
       "customer_id                    0\n",
       "agent_id                       0\n",
       "call_start_datetime            0\n",
       "agent_assigned_datetime        0\n",
       "call_end_datetime              0\n",
       "call_transcript                0\n",
       "call_duration                  0\n",
       "wait_time                      0\n",
       "agent_tone                   217\n",
       "customer_tone                  0\n",
       "average_sentiment            109\n",
       "silence_percent_average        0\n",
       "primary_call_reason         5157\n",
       "customer_name                  0\n",
       "elite_level_code           25767\n",
       "dtype: int64"
      ]
     },
     "execution_count": 16,
     "metadata": {},
     "output_type": "execute_result"
    }
   ],
   "source": [
    "df.isnull().sum()"
   ]
  },
  {
   "cell_type": "code",
   "execution_count": 17,
   "id": "6241af15-711d-4fef-b08c-d5cab3635df5",
   "metadata": {},
   "outputs": [],
   "source": [
    "df['agent_tone'] = df['agent_tone'].fillna('neutral')\n",
    "df['customer_tone'] = df['customer_tone'].fillna('neutral')\n",
    "df['average_sentiment'] = df['average_sentiment'].fillna(0)\n",
    "df['silence_percent_average'] = df['silence_percent_average'].fillna(df['silence_percent_average'].mean())\n",
    "df['primary_call_reason'] = df['primary_call_reason'].fillna('Unknown')\n",
    "df['elite_level_code'] = df['elite_level_code'].fillna(0)\n",
    "df['customer_name'] = df['customer_name'].fillna('Unknown')"
   ]
  },
  {
   "cell_type": "code",
   "execution_count": 18,
   "id": "8ac56b6c-1a34-454c-8eba-d434e74fabe4",
   "metadata": {},
   "outputs": [],
   "source": [
    "df['elite_level_code'] = df['elite_level_code'].astype(int)"
   ]
  },
  {
   "cell_type": "code",
   "execution_count": 19,
   "id": "ad9af7ce-8eef-458f-bfd8-df2fa3a90d70",
   "metadata": {},
   "outputs": [],
   "source": [
    "df = df.drop_duplicates()"
   ]
  },
  {
   "cell_type": "code",
   "execution_count": 20,
   "id": "64e1ab52-b2f7-4aa0-b3e6-0f6b4b253a01",
   "metadata": {},
   "outputs": [],
   "source": [
    "df = df.reset_index(drop=True)"
   ]
  },
  {
   "cell_type": "code",
   "execution_count": 21,
   "id": "9a9f1df4-9504-44cb-89f4-b4d65ea54b2e",
   "metadata": {},
   "outputs": [
    {
     "data": {
      "text/html": [
       "<div>\n",
       "<style scoped>\n",
       "    .dataframe tbody tr th:only-of-type {\n",
       "        vertical-align: middle;\n",
       "    }\n",
       "\n",
       "    .dataframe tbody tr th {\n",
       "        vertical-align: top;\n",
       "    }\n",
       "\n",
       "    .dataframe thead th {\n",
       "        text-align: right;\n",
       "    }\n",
       "</style>\n",
       "<table border=\"1\" class=\"dataframe\">\n",
       "  <thead>\n",
       "    <tr style=\"text-align: right;\">\n",
       "      <th></th>\n",
       "      <th>call_id</th>\n",
       "      <th>customer_id</th>\n",
       "      <th>agent_id</th>\n",
       "      <th>call_start_datetime</th>\n",
       "      <th>agent_assigned_datetime</th>\n",
       "      <th>call_end_datetime</th>\n",
       "      <th>call_transcript</th>\n",
       "      <th>call_duration</th>\n",
       "      <th>wait_time</th>\n",
       "      <th>agent_tone</th>\n",
       "      <th>customer_tone</th>\n",
       "      <th>average_sentiment</th>\n",
       "      <th>silence_percent_average</th>\n",
       "      <th>primary_call_reason</th>\n",
       "      <th>customer_name</th>\n",
       "      <th>elite_level_code</th>\n",
       "    </tr>\n",
       "  </thead>\n",
       "  <tbody>\n",
       "    <tr>\n",
       "      <th>0</th>\n",
       "      <td>4667960400</td>\n",
       "      <td>2033123310</td>\n",
       "      <td>963118</td>\n",
       "      <td>2024-07-31 23:56:00</td>\n",
       "      <td>2024-08-01 00:03:00</td>\n",
       "      <td>2024-08-01 00:34:00</td>\n",
       "      <td>\\n\\nAgent: Thank you for calling United Airlin...</td>\n",
       "      <td>1860.0</td>\n",
       "      <td>420.0</td>\n",
       "      <td>neutral</td>\n",
       "      <td>angry</td>\n",
       "      <td>-0.04</td>\n",
       "      <td>0.39</td>\n",
       "      <td>Voluntary  Cancel</td>\n",
       "      <td>Matthew Foster</td>\n",
       "      <td>4</td>\n",
       "    </tr>\n",
       "    <tr>\n",
       "      <th>1</th>\n",
       "      <td>1122072124</td>\n",
       "      <td>8186702651</td>\n",
       "      <td>519057</td>\n",
       "      <td>2024-08-01 00:03:00</td>\n",
       "      <td>2024-08-01 00:06:00</td>\n",
       "      <td>2024-08-01 00:18:00</td>\n",
       "      <td>\\n\\nAgent: Thank you for calling United Airlin...</td>\n",
       "      <td>720.0</td>\n",
       "      <td>180.0</td>\n",
       "      <td>calm</td>\n",
       "      <td>neutral</td>\n",
       "      <td>0.02</td>\n",
       "      <td>0.35</td>\n",
       "      <td>Booking</td>\n",
       "      <td>Tammy Walters</td>\n",
       "      <td>0</td>\n",
       "    </tr>\n",
       "    <tr>\n",
       "      <th>2</th>\n",
       "      <td>6834291559</td>\n",
       "      <td>2416856629</td>\n",
       "      <td>158319</td>\n",
       "      <td>2024-07-31 23:59:00</td>\n",
       "      <td>2024-08-01 00:07:00</td>\n",
       "      <td>2024-08-01 00:26:00</td>\n",
       "      <td>\\n\\nAgent: Thank you for calling United Airlin...</td>\n",
       "      <td>1140.0</td>\n",
       "      <td>480.0</td>\n",
       "      <td>neutral</td>\n",
       "      <td>polite</td>\n",
       "      <td>-0.13</td>\n",
       "      <td>0.32</td>\n",
       "      <td>IRROPS</td>\n",
       "      <td>Jeffery Dixon</td>\n",
       "      <td>0</td>\n",
       "    </tr>\n",
       "    <tr>\n",
       "      <th>3</th>\n",
       "      <td>2266439882</td>\n",
       "      <td>1154544516</td>\n",
       "      <td>488324</td>\n",
       "      <td>2024-08-01 00:05:00</td>\n",
       "      <td>2024-08-01 00:10:00</td>\n",
       "      <td>2024-08-01 00:17:00</td>\n",
       "      <td>\\n\\nAgent: Thank you for calling United Airlin...</td>\n",
       "      <td>420.0</td>\n",
       "      <td>300.0</td>\n",
       "      <td>neutral</td>\n",
       "      <td>frustrated</td>\n",
       "      <td>-0.20</td>\n",
       "      <td>0.20</td>\n",
       "      <td>Upgrade</td>\n",
       "      <td>David Wilkins</td>\n",
       "      <td>2</td>\n",
       "    </tr>\n",
       "    <tr>\n",
       "      <th>4</th>\n",
       "      <td>1211603231</td>\n",
       "      <td>5214456437</td>\n",
       "      <td>721730</td>\n",
       "      <td>2024-08-01 00:04:00</td>\n",
       "      <td>2024-08-01 00:14:00</td>\n",
       "      <td>2024-08-01 00:23:00</td>\n",
       "      <td>\\n\\nAgent: Thank you for calling United Airlin...</td>\n",
       "      <td>540.0</td>\n",
       "      <td>600.0</td>\n",
       "      <td>neutral</td>\n",
       "      <td>polite</td>\n",
       "      <td>-0.05</td>\n",
       "      <td>0.35</td>\n",
       "      <td>Seating</td>\n",
       "      <td>Elizabeth Daniels</td>\n",
       "      <td>0</td>\n",
       "    </tr>\n",
       "  </tbody>\n",
       "</table>\n",
       "</div>"
      ],
      "text/plain": [
       "      call_id  customer_id  agent_id call_start_datetime  \\\n",
       "0  4667960400   2033123310    963118 2024-07-31 23:56:00   \n",
       "1  1122072124   8186702651    519057 2024-08-01 00:03:00   \n",
       "2  6834291559   2416856629    158319 2024-07-31 23:59:00   \n",
       "3  2266439882   1154544516    488324 2024-08-01 00:05:00   \n",
       "4  1211603231   5214456437    721730 2024-08-01 00:04:00   \n",
       "\n",
       "  agent_assigned_datetime   call_end_datetime  \\\n",
       "0     2024-08-01 00:03:00 2024-08-01 00:34:00   \n",
       "1     2024-08-01 00:06:00 2024-08-01 00:18:00   \n",
       "2     2024-08-01 00:07:00 2024-08-01 00:26:00   \n",
       "3     2024-08-01 00:10:00 2024-08-01 00:17:00   \n",
       "4     2024-08-01 00:14:00 2024-08-01 00:23:00   \n",
       "\n",
       "                                     call_transcript  call_duration  \\\n",
       "0  \\n\\nAgent: Thank you for calling United Airlin...         1860.0   \n",
       "1  \\n\\nAgent: Thank you for calling United Airlin...          720.0   \n",
       "2  \\n\\nAgent: Thank you for calling United Airlin...         1140.0   \n",
       "3  \\n\\nAgent: Thank you for calling United Airlin...          420.0   \n",
       "4  \\n\\nAgent: Thank you for calling United Airlin...          540.0   \n",
       "\n",
       "   wait_time agent_tone customer_tone  average_sentiment  \\\n",
       "0      420.0    neutral         angry              -0.04   \n",
       "1      180.0       calm       neutral               0.02   \n",
       "2      480.0    neutral        polite              -0.13   \n",
       "3      300.0    neutral    frustrated              -0.20   \n",
       "4      600.0    neutral        polite              -0.05   \n",
       "\n",
       "   silence_percent_average primary_call_reason      customer_name  \\\n",
       "0                     0.39   Voluntary  Cancel     Matthew Foster   \n",
       "1                     0.35             Booking      Tammy Walters   \n",
       "2                     0.32              IRROPS      Jeffery Dixon   \n",
       "3                     0.20             Upgrade      David Wilkins   \n",
       "4                     0.35             Seating  Elizabeth Daniels   \n",
       "\n",
       "   elite_level_code  \n",
       "0                 4  \n",
       "1                 0  \n",
       "2                 0  \n",
       "3                 2  \n",
       "4                 0  "
      ]
     },
     "execution_count": 21,
     "metadata": {},
     "output_type": "execute_result"
    }
   ],
   "source": [
    "df.head()"
   ]
  },
  {
   "cell_type": "code",
   "execution_count": 26,
   "id": "2be79eb4-f724-4cfc-bb41-fc152b7e81dd",
   "metadata": {},
   "outputs": [
    {
     "data": {
      "text/plain": [
       "array(['neutral', 'calm', 'frustrated', 'angry', 'polite'], dtype=object)"
      ]
     },
     "execution_count": 26,
     "metadata": {},
     "output_type": "execute_result"
    }
   ],
   "source": [
    "df['agent_tone'].unique()"
   ]
  },
  {
   "cell_type": "code",
   "execution_count": 27,
   "id": "ecb4f12a-77ef-4959-b301-aacf1698c142",
   "metadata": {},
   "outputs": [
    {
     "data": {
      "text/plain": [
       "array(['angry', 'neutral', 'polite', 'frustrated', 'calm'], dtype=object)"
      ]
     },
     "execution_count": 27,
     "metadata": {},
     "output_type": "execute_result"
    }
   ],
   "source": [
    "df['customer_tone'].unique()"
   ]
  },
  {
   "cell_type": "code",
   "execution_count": 29,
   "id": "52f6f0cc-7934-4d68-863f-5e51d1f1d4de",
   "metadata": {},
   "outputs": [
    {
     "data": {
      "text/plain": [
       "True"
      ]
     },
     "execution_count": 29,
     "metadata": {},
     "output_type": "execute_result"
    }
   ],
   "source": [
    "set(df['agent_tone'].unique()) == set(df['customer_tone'].unique())"
   ]
  },
  {
   "cell_type": "code",
   "execution_count": 22,
   "id": "b55a3362-7ee1-49bd-91a3-0f3df8543a79",
   "metadata": {},
   "outputs": [],
   "source": [
    "# Feature Engineering"
   ]
  },
  {
   "cell_type": "code",
   "execution_count": 25,
   "id": "39309d14-6a25-4250-91e4-9012c26c3676",
   "metadata": {},
   "outputs": [],
   "source": [
    "df['call_start_hour'] = df['call_start_datetime'].dt.hour\n",
    "df['call_start_day'] = df['call_start_datetime'].dt.day\n",
    "df['call_start_weekday'] = df['call_start_datetime'].dt.weekday\n",
    "df['call_start_month'] = df['call_start_datetime'].dt.month"
   ]
  },
  {
   "cell_type": "code",
   "execution_count": 30,
   "id": "1c80f712-b6d5-4d8f-a3b8-2c5e8a2750b0",
   "metadata": {},
   "outputs": [],
   "source": [
    "tone_mapping = {\n",
    "    'angry': -2,\n",
    "    'frustrated': -1,\n",
    "    'neutral': 0,\n",
    "    'calm': 1,\n",
    "    'polite': 2\n",
    "}\n",
    "df['agent_tone_encoded'] = df['agent_tone'].map(tone_mapping)\n",
    "df['customer_tone_encoded'] = df['customer_tone'].map(tone_mapping)"
   ]
  },
  {
   "cell_type": "code",
   "execution_count": 31,
   "id": "d6a7cb9f-c902-4331-99d2-28e0ea57c6b2",
   "metadata": {},
   "outputs": [],
   "source": [
    "df['silence_duration'] = df['call_duration'] * df['silence_percent_average']"
   ]
  },
  {
   "cell_type": "code",
   "execution_count": 32,
   "id": "0a3f14f9-4ce6-4d12-b528-0598af0f7351",
   "metadata": {},
   "outputs": [],
   "source": [
    "df['primary_call_reason_encoded'] = df['primary_call_reason'].astype('category').cat.codes"
   ]
  },
  {
   "cell_type": "code",
   "execution_count": 33,
   "id": "5fffa5d5-02c3-480d-bdd8-ac4720436d1c",
   "metadata": {},
   "outputs": [],
   "source": [
    "df['transcript_length'] = df['call_transcript'].str.len()\n",
    "df['transcript_word_count'] = df['call_transcript'].str.split().str.len()"
   ]
  },
  {
   "cell_type": "code",
   "execution_count": 34,
   "id": "8eb796df-d1ba-4d14-8481-87a9fa832c8f",
   "metadata": {},
   "outputs": [],
   "source": [
    "df['words_per_minute'] = df['transcript_word_count'] / (df['call_duration'] / 60)"
   ]
  },
  {
   "cell_type": "code",
   "execution_count": 35,
   "id": "64a5350e-fa65-4d01-860f-7b7723aa39e5",
   "metadata": {},
   "outputs": [],
   "source": [
    "df['is_peak_hour'] = df['call_start_hour'].apply(lambda x: 1 if 9 <= x <= 18 else 0)\n",
    "df['is_weekend'] = df['call_start_weekday'].apply(lambda x: 1 if x >= 5 else 0)"
   ]
  },
  {
   "cell_type": "code",
   "execution_count": 36,
   "id": "4fa95cbe-d55f-406a-bff9-1df881485494",
   "metadata": {},
   "outputs": [],
   "source": [
    "df['agent_avg_call_duration'] = df.groupby('agent_id')['call_duration'].transform('mean')"
   ]
  },
  {
   "cell_type": "code",
   "execution_count": 37,
   "id": "612c1475-b016-4384-a662-4955948df2a1",
   "metadata": {},
   "outputs": [],
   "source": [
    "df['is_loyal_customer'] = df['elite_level_code'].apply(lambda x: 1 if x >= 3 else 0)"
   ]
  },
  {
   "cell_type": "code",
   "execution_count": 38,
   "id": "6276b186-1067-4b06-a31c-00b39a2cb301",
   "metadata": {},
   "outputs": [],
   "source": [
    "df['silence_ratio'] = df['silence_duration'] / df['call_duration']"
   ]
  },
  {
   "cell_type": "code",
   "execution_count": 39,
   "id": "11f06163-7d98-48ba-99f1-ddb6b9ecd42e",
   "metadata": {},
   "outputs": [],
   "source": [
    "df['tone_difference'] = df['agent_tone_encoded'] - df['customer_tone_encoded']\n",
    "df['sentiment_tone_product'] = df['average_sentiment'] * df['customer_tone_encoded']"
   ]
  },
  {
   "cell_type": "code",
   "execution_count": 40,
   "id": "d72b77c6-a9ab-4682-96ba-faa46a1eb7fa",
   "metadata": {},
   "outputs": [],
   "source": [
    "df = df.drop(['call_transcript', 'customer_name', 'agent_tone', 'customer_tone'], axis=1)"
   ]
  },
  {
   "cell_type": "code",
   "execution_count": 43,
   "id": "fd367b8d-6109-449b-8576-b88f26a45b37",
   "metadata": {},
   "outputs": [
    {
     "data": {
      "text/html": [
       "<div>\n",
       "<style scoped>\n",
       "    .dataframe tbody tr th:only-of-type {\n",
       "        vertical-align: middle;\n",
       "    }\n",
       "\n",
       "    .dataframe tbody tr th {\n",
       "        vertical-align: top;\n",
       "    }\n",
       "\n",
       "    .dataframe thead th {\n",
       "        text-align: right;\n",
       "    }\n",
       "</style>\n",
       "<table border=\"1\" class=\"dataframe\">\n",
       "  <thead>\n",
       "    <tr style=\"text-align: right;\">\n",
       "      <th></th>\n",
       "      <th>call_id</th>\n",
       "      <th>customer_id</th>\n",
       "      <th>agent_id</th>\n",
       "      <th>call_start_datetime</th>\n",
       "      <th>agent_assigned_datetime</th>\n",
       "      <th>call_end_datetime</th>\n",
       "      <th>call_duration</th>\n",
       "      <th>wait_time</th>\n",
       "      <th>average_sentiment</th>\n",
       "      <th>silence_percent_average</th>\n",
       "      <th>primary_call_reason</th>\n",
       "      <th>elite_level_code</th>\n",
       "      <th>call_start_hour</th>\n",
       "      <th>call_start_day</th>\n",
       "      <th>call_start_weekday</th>\n",
       "      <th>call_start_month</th>\n",
       "      <th>agent_tone_encoded</th>\n",
       "      <th>customer_tone_encoded</th>\n",
       "      <th>silence_duration</th>\n",
       "      <th>primary_call_reason_encoded</th>\n",
       "      <th>transcript_length</th>\n",
       "      <th>transcript_word_count</th>\n",
       "      <th>words_per_minute</th>\n",
       "      <th>is_peak_hour</th>\n",
       "      <th>is_weekend</th>\n",
       "      <th>agent_avg_call_duration</th>\n",
       "      <th>is_loyal_customer</th>\n",
       "      <th>silence_ratio</th>\n",
       "      <th>tone_difference</th>\n",
       "      <th>sentiment_tone_product</th>\n",
       "    </tr>\n",
       "  </thead>\n",
       "  <tbody>\n",
       "    <tr>\n",
       "      <th>0</th>\n",
       "      <td>4667960400</td>\n",
       "      <td>2033123310</td>\n",
       "      <td>963118</td>\n",
       "      <td>2024-07-31 23:56:00</td>\n",
       "      <td>2024-08-01 00:03:00</td>\n",
       "      <td>2024-08-01 00:34:00</td>\n",
       "      <td>1860.0</td>\n",
       "      <td>420.0</td>\n",
       "      <td>-0.04</td>\n",
       "      <td>0.39</td>\n",
       "      <td>Voluntary  Cancel</td>\n",
       "      <td>4</td>\n",
       "      <td>23</td>\n",
       "      <td>31</td>\n",
       "      <td>2</td>\n",
       "      <td>7</td>\n",
       "      <td>0</td>\n",
       "      <td>-2</td>\n",
       "      <td>725.4</td>\n",
       "      <td>49</td>\n",
       "      <td>2296</td>\n",
       "      <td>408</td>\n",
       "      <td>13.161290</td>\n",
       "      <td>0</td>\n",
       "      <td>0</td>\n",
       "      <td>649.808917</td>\n",
       "      <td>1</td>\n",
       "      <td>0.39</td>\n",
       "      <td>2</td>\n",
       "      <td>0.08</td>\n",
       "    </tr>\n",
       "    <tr>\n",
       "      <th>1</th>\n",
       "      <td>1122072124</td>\n",
       "      <td>8186702651</td>\n",
       "      <td>519057</td>\n",
       "      <td>2024-08-01 00:03:00</td>\n",
       "      <td>2024-08-01 00:06:00</td>\n",
       "      <td>2024-08-01 00:18:00</td>\n",
       "      <td>720.0</td>\n",
       "      <td>180.0</td>\n",
       "      <td>0.02</td>\n",
       "      <td>0.35</td>\n",
       "      <td>Booking</td>\n",
       "      <td>0</td>\n",
       "      <td>0</td>\n",
       "      <td>1</td>\n",
       "      <td>3</td>\n",
       "      <td>8</td>\n",
       "      <td>1</td>\n",
       "      <td>0</td>\n",
       "      <td>252.0</td>\n",
       "      <td>3</td>\n",
       "      <td>2680</td>\n",
       "      <td>485</td>\n",
       "      <td>40.416667</td>\n",
       "      <td>0</td>\n",
       "      <td>0</td>\n",
       "      <td>671.860465</td>\n",
       "      <td>0</td>\n",
       "      <td>0.35</td>\n",
       "      <td>1</td>\n",
       "      <td>0.00</td>\n",
       "    </tr>\n",
       "    <tr>\n",
       "      <th>2</th>\n",
       "      <td>6834291559</td>\n",
       "      <td>2416856629</td>\n",
       "      <td>158319</td>\n",
       "      <td>2024-07-31 23:59:00</td>\n",
       "      <td>2024-08-01 00:07:00</td>\n",
       "      <td>2024-08-01 00:26:00</td>\n",
       "      <td>1140.0</td>\n",
       "      <td>480.0</td>\n",
       "      <td>-0.13</td>\n",
       "      <td>0.32</td>\n",
       "      <td>IRROPS</td>\n",
       "      <td>0</td>\n",
       "      <td>23</td>\n",
       "      <td>31</td>\n",
       "      <td>2</td>\n",
       "      <td>7</td>\n",
       "      <td>0</td>\n",
       "      <td>2</td>\n",
       "      <td>364.8</td>\n",
       "      <td>20</td>\n",
       "      <td>3128</td>\n",
       "      <td>574</td>\n",
       "      <td>30.210526</td>\n",
       "      <td>0</td>\n",
       "      <td>0</td>\n",
       "      <td>681.374046</td>\n",
       "      <td>0</td>\n",
       "      <td>0.32</td>\n",
       "      <td>-2</td>\n",
       "      <td>-0.26</td>\n",
       "    </tr>\n",
       "    <tr>\n",
       "      <th>3</th>\n",
       "      <td>2266439882</td>\n",
       "      <td>1154544516</td>\n",
       "      <td>488324</td>\n",
       "      <td>2024-08-01 00:05:00</td>\n",
       "      <td>2024-08-01 00:10:00</td>\n",
       "      <td>2024-08-01 00:17:00</td>\n",
       "      <td>420.0</td>\n",
       "      <td>300.0</td>\n",
       "      <td>-0.20</td>\n",
       "      <td>0.20</td>\n",
       "      <td>Upgrade</td>\n",
       "      <td>2</td>\n",
       "      <td>0</td>\n",
       "      <td>1</td>\n",
       "      <td>3</td>\n",
       "      <td>8</td>\n",
       "      <td>0</td>\n",
       "      <td>-1</td>\n",
       "      <td>84.0</td>\n",
       "      <td>46</td>\n",
       "      <td>3289</td>\n",
       "      <td>592</td>\n",
       "      <td>84.571429</td>\n",
       "      <td>0</td>\n",
       "      <td>0</td>\n",
       "      <td>611.785714</td>\n",
       "      <td>0</td>\n",
       "      <td>0.20</td>\n",
       "      <td>1</td>\n",
       "      <td>0.20</td>\n",
       "    </tr>\n",
       "    <tr>\n",
       "      <th>4</th>\n",
       "      <td>1211603231</td>\n",
       "      <td>5214456437</td>\n",
       "      <td>721730</td>\n",
       "      <td>2024-08-01 00:04:00</td>\n",
       "      <td>2024-08-01 00:14:00</td>\n",
       "      <td>2024-08-01 00:23:00</td>\n",
       "      <td>540.0</td>\n",
       "      <td>600.0</td>\n",
       "      <td>-0.05</td>\n",
       "      <td>0.35</td>\n",
       "      <td>Seating</td>\n",
       "      <td>0</td>\n",
       "      <td>0</td>\n",
       "      <td>1</td>\n",
       "      <td>3</td>\n",
       "      <td>8</td>\n",
       "      <td>0</td>\n",
       "      <td>2</td>\n",
       "      <td>189.0</td>\n",
       "      <td>37</td>\n",
       "      <td>2820</td>\n",
       "      <td>528</td>\n",
       "      <td>58.666667</td>\n",
       "      <td>0</td>\n",
       "      <td>0</td>\n",
       "      <td>649.756098</td>\n",
       "      <td>0</td>\n",
       "      <td>0.35</td>\n",
       "      <td>-2</td>\n",
       "      <td>-0.10</td>\n",
       "    </tr>\n",
       "  </tbody>\n",
       "</table>\n",
       "</div>"
      ],
      "text/plain": [
       "      call_id  customer_id  agent_id call_start_datetime  \\\n",
       "0  4667960400   2033123310    963118 2024-07-31 23:56:00   \n",
       "1  1122072124   8186702651    519057 2024-08-01 00:03:00   \n",
       "2  6834291559   2416856629    158319 2024-07-31 23:59:00   \n",
       "3  2266439882   1154544516    488324 2024-08-01 00:05:00   \n",
       "4  1211603231   5214456437    721730 2024-08-01 00:04:00   \n",
       "\n",
       "  agent_assigned_datetime   call_end_datetime  call_duration  wait_time  \\\n",
       "0     2024-08-01 00:03:00 2024-08-01 00:34:00         1860.0      420.0   \n",
       "1     2024-08-01 00:06:00 2024-08-01 00:18:00          720.0      180.0   \n",
       "2     2024-08-01 00:07:00 2024-08-01 00:26:00         1140.0      480.0   \n",
       "3     2024-08-01 00:10:00 2024-08-01 00:17:00          420.0      300.0   \n",
       "4     2024-08-01 00:14:00 2024-08-01 00:23:00          540.0      600.0   \n",
       "\n",
       "   average_sentiment  silence_percent_average primary_call_reason  \\\n",
       "0              -0.04                     0.39   Voluntary  Cancel   \n",
       "1               0.02                     0.35             Booking   \n",
       "2              -0.13                     0.32              IRROPS   \n",
       "3              -0.20                     0.20             Upgrade   \n",
       "4              -0.05                     0.35             Seating   \n",
       "\n",
       "   elite_level_code  call_start_hour  call_start_day  call_start_weekday  \\\n",
       "0                 4               23              31                   2   \n",
       "1                 0                0               1                   3   \n",
       "2                 0               23              31                   2   \n",
       "3                 2                0               1                   3   \n",
       "4                 0                0               1                   3   \n",
       "\n",
       "   call_start_month  agent_tone_encoded  customer_tone_encoded  \\\n",
       "0                 7                   0                     -2   \n",
       "1                 8                   1                      0   \n",
       "2                 7                   0                      2   \n",
       "3                 8                   0                     -1   \n",
       "4                 8                   0                      2   \n",
       "\n",
       "   silence_duration  primary_call_reason_encoded  transcript_length  \\\n",
       "0             725.4                           49               2296   \n",
       "1             252.0                            3               2680   \n",
       "2             364.8                           20               3128   \n",
       "3              84.0                           46               3289   \n",
       "4             189.0                           37               2820   \n",
       "\n",
       "   transcript_word_count  words_per_minute  is_peak_hour  is_weekend  \\\n",
       "0                    408         13.161290             0           0   \n",
       "1                    485         40.416667             0           0   \n",
       "2                    574         30.210526             0           0   \n",
       "3                    592         84.571429             0           0   \n",
       "4                    528         58.666667             0           0   \n",
       "\n",
       "   agent_avg_call_duration  is_loyal_customer  silence_ratio  tone_difference  \\\n",
       "0               649.808917                  1           0.39                2   \n",
       "1               671.860465                  0           0.35                1   \n",
       "2               681.374046                  0           0.32               -2   \n",
       "3               611.785714                  0           0.20                1   \n",
       "4               649.756098                  0           0.35               -2   \n",
       "\n",
       "   sentiment_tone_product  \n",
       "0                    0.08  \n",
       "1                    0.00  \n",
       "2                   -0.26  \n",
       "3                    0.20  \n",
       "4                   -0.10  "
      ]
     },
     "execution_count": 43,
     "metadata": {},
     "output_type": "execute_result"
    }
   ],
   "source": [
    "df.head()"
   ]
  },
  {
   "cell_type": "code",
   "execution_count": 44,
   "id": "f12983bb-b3b4-458b-9045-2687de655e32",
   "metadata": {},
   "outputs": [],
   "source": [
    "df['handle_time'] = df['call_duration']\n",
    "df['waiting_time'] = df['wait_time']"
   ]
  },
  {
   "cell_type": "code",
   "execution_count": 45,
   "id": "26a736bc-803b-46c1-913c-522ccea3ae78",
   "metadata": {},
   "outputs": [],
   "source": [
    "total_handle_time = df['handle_time'].sum()\n",
    "total_waiting_time = df['waiting_time'].sum()"
   ]
  },
  {
   "cell_type": "code",
   "execution_count": 46,
   "id": "7105a11e-2382-4ee6-ae1e-1190070f5032",
   "metadata": {},
   "outputs": [],
   "source": [
    "total_calls = len(df)"
   ]
  },
  {
   "cell_type": "code",
   "execution_count": 47,
   "id": "8bd4b5fc-6fb3-4d15-a251-f18930e94597",
   "metadata": {},
   "outputs": [],
   "source": [
    "AHT = total_handle_time / total_calls\n",
    "AST = total_waiting_time / total_calls"
   ]
  },
  {
   "cell_type": "code",
   "execution_count": 48,
   "id": "e84daab8-e935-4ebc-a0bb-220082b9aebc",
   "metadata": {},
   "outputs": [
    {
     "data": {
      "text/plain": [
       "np.float64(697.0486004734717)"
      ]
     },
     "execution_count": 48,
     "metadata": {},
     "output_type": "execute_result"
    }
   ],
   "source": [
    "AHT"
   ]
  },
  {
   "cell_type": "code",
   "execution_count": 49,
   "id": "1f311643-292f-49ee-9e8c-8db1cbc9ab90",
   "metadata": {},
   "outputs": [
    {
     "data": {
      "text/plain": [
       "np.float64(437.0675393399248)"
      ]
     },
     "execution_count": 49,
     "metadata": {},
     "output_type": "execute_result"
    }
   ],
   "source": [
    "AST"
   ]
  },
  {
   "cell_type": "code",
   "execution_count": 50,
   "id": "fed8871c-24cd-4ba5-9758-e811eeaa6b7b",
   "metadata": {},
   "outputs": [],
   "source": [
    "# AHT and AST per Agent\n",
    "\n",
    "agent_metrics = df.groupby('agent_id').agg({\n",
    "    'handle_time': 'mean',\n",
    "    'waiting_time': 'mean',\n",
    "    'call_id': 'count'\n",
    "}).rename(columns={\n",
    "    'handle_time': 'AHT',\n",
    "    'waiting_time': 'AST',\n",
    "    'call_id': 'call_count'\n",
    "})"
   ]
  },
  {
   "cell_type": "code",
   "execution_count": 51,
   "id": "686e4ae0-c2be-4359-8846-990c77dc88cc",
   "metadata": {},
   "outputs": [],
   "source": [
    "# AHT and AST per Primary Call Reason\n",
    "reason_metrics = df.groupby('primary_call_reason').agg({\n",
    "    'handle_time': 'mean',\n",
    "    'waiting_time': 'mean',\n",
    "    'call_id': 'count'\n",
    "}).rename(columns={\n",
    "    'handle_time': 'AHT',\n",
    "    'waiting_time': 'AST',\n",
    "    'call_id': 'call_count'\n",
    "})"
   ]
  },
  {
   "cell_type": "code",
   "execution_count": 52,
   "id": "4690ec86-3a9d-4041-b974-65964a8dc5f7",
   "metadata": {},
   "outputs": [],
   "source": [
    "handle_time_stats = df['handle_time'].describe()"
   ]
  },
  {
   "cell_type": "code",
   "execution_count": 79,
   "id": "599818f0-ff01-4b2b-b3cf-bfb54310ae26",
   "metadata": {},
   "outputs": [
    {
     "data": {
      "text/plain": [
       "count    71810.000000\n",
       "mean       697.048600\n",
       "std        774.301509\n",
       "min          0.000000\n",
       "25%        240.000000\n",
       "50%        420.000000\n",
       "75%        900.000000\n",
       "max       7140.000000\n",
       "Name: handle_time, dtype: float64"
      ]
     },
     "execution_count": 79,
     "metadata": {},
     "output_type": "execute_result"
    }
   ],
   "source": [
    "handle_time_stats"
   ]
  },
  {
   "cell_type": "code",
   "execution_count": 53,
   "id": "2d3d0fb6-604d-47cb-908e-b98dd3ec0bd5",
   "metadata": {},
   "outputs": [],
   "source": [
    "waiting_time_stats = df['waiting_time'].describe()"
   ]
  },
  {
   "cell_type": "code",
   "execution_count": 80,
   "id": "eabe1209-e80e-4d80-8ff5-e359300d9aeb",
   "metadata": {},
   "outputs": [
    {
     "data": {
      "text/plain": [
       "count    71810.000000\n",
       "mean       437.067539\n",
       "std        151.129771\n",
       "min        180.000000\n",
       "25%        300.000000\n",
       "50%        420.000000\n",
       "75%        540.000000\n",
       "max        900.000000\n",
       "Name: waiting_time, dtype: float64"
      ]
     },
     "execution_count": 80,
     "metadata": {},
     "output_type": "execute_result"
    }
   ],
   "source": [
    "waiting_time_stats"
   ]
  },
  {
   "cell_type": "code",
   "execution_count": 58,
   "id": "e07e925e-a202-435a-9367-6767a92338fe",
   "metadata": {},
   "outputs": [
    {
     "data": {
      "image/png": "[encoded data removed]",
      "text/plain": [
       "<Figure size 1000x600 with 1 Axes>"
      ]
     },
     "metadata": {},
     "output_type": "display_data"
    }
   ],
   "source": [
    "plt.figure(figsize=(10, 6))\n",
    "sns.histplot(df['handle_time'], bins=50, kde=True)\n",
    "plt.title('Distribution of Handle Time')\n",
    "plt.xlabel('Handle Time (seconds)')\n",
    "plt.ylabel('Frequency')\n",
    "plt.show()"
   ]
  },
  {
   "cell_type": "code",
   "execution_count": 59,
   "id": "20263b47-9ae3-4b09-88cd-4ed321948c45",
   "metadata": {},
   "outputs": [
    {
     "data": {
      "image/png": "[encoded data removed]",
      "text/plain": [
       "<Figure size 1000x600 with 1 Axes>"
      ]
     },
     "metadata": {},
     "output_type": "display_data"
    }
   ],
   "source": [
    "plt.figure(figsize=(10, 6))\n",
    "sns.histplot(df['waiting_time'], bins=50, kde=True)\n",
    "plt.title('Distribution of Waiting Time')\n",
    "plt.xlabel('Waiting Time (seconds)')\n",
    "plt.ylabel('Frequency')\n",
    "plt.show()"
   ]
  },
  {
   "cell_type": "code",
   "execution_count": 60,
   "id": "a31778ad-a568-4321-b3c8-2eb1d31c16a5",
   "metadata": {},
   "outputs": [],
   "source": [
    "# Identify Agents with High AHT\n",
    "average_aht = agent_metrics['AHT'].mean()\n",
    "std_aht = agent_metrics['AHT'].std()\n",
    "high_aht_agents = agent_metrics[agent_metrics['AHT'] > (average_aht + std_aht)]"
   ]
  },
  {
   "cell_type": "code",
   "execution_count": 81,
   "id": "544a0a02-3ad7-488f-89c2-4df29a542f56",
   "metadata": {},
   "outputs": [
    {
     "data": {
      "text/html": [
       "<div>\n",
       "<style scoped>\n",
       "    .dataframe tbody tr th:only-of-type {\n",
       "        vertical-align: middle;\n",
       "    }\n",
       "\n",
       "    .dataframe tbody tr th {\n",
       "        vertical-align: top;\n",
       "    }\n",
       "\n",
       "    .dataframe thead th {\n",
       "        text-align: right;\n",
       "    }\n",
       "</style>\n",
       "<table border=\"1\" class=\"dataframe\">\n",
       "  <thead>\n",
       "    <tr style=\"text-align: right;\">\n",
       "      <th></th>\n",
       "      <th>AHT</th>\n",
       "      <th>AST</th>\n",
       "      <th>call_count</th>\n",
       "    </tr>\n",
       "    <tr>\n",
       "      <th>agent_id</th>\n",
       "      <th></th>\n",
       "      <th></th>\n",
       "      <th></th>\n",
       "    </tr>\n",
       "  </thead>\n",
       "  <tbody>\n",
       "    <tr>\n",
       "      <th>102574</th>\n",
       "      <td>3600.000000</td>\n",
       "      <td>480.000000</td>\n",
       "      <td>2</td>\n",
       "    </tr>\n",
       "    <tr>\n",
       "      <th>136065</th>\n",
       "      <td>1800.000000</td>\n",
       "      <td>420.000000</td>\n",
       "      <td>7</td>\n",
       "    </tr>\n",
       "    <tr>\n",
       "      <th>140146</th>\n",
       "      <td>2620.000000</td>\n",
       "      <td>360.000000</td>\n",
       "      <td>3</td>\n",
       "    </tr>\n",
       "    <tr>\n",
       "      <th>201204</th>\n",
       "      <td>1225.714286</td>\n",
       "      <td>402.857143</td>\n",
       "      <td>7</td>\n",
       "    </tr>\n",
       "    <tr>\n",
       "      <th>255256</th>\n",
       "      <td>2620.000000</td>\n",
       "      <td>280.000000</td>\n",
       "      <td>3</td>\n",
       "    </tr>\n",
       "    <tr>\n",
       "      <th>335773</th>\n",
       "      <td>1080.000000</td>\n",
       "      <td>420.000000</td>\n",
       "      <td>2</td>\n",
       "    </tr>\n",
       "    <tr>\n",
       "      <th>336455</th>\n",
       "      <td>1740.000000</td>\n",
       "      <td>480.000000</td>\n",
       "      <td>3</td>\n",
       "    </tr>\n",
       "    <tr>\n",
       "      <th>384932</th>\n",
       "      <td>1350.000000</td>\n",
       "      <td>600.000000</td>\n",
       "      <td>2</td>\n",
       "    </tr>\n",
       "    <tr>\n",
       "      <th>391553</th>\n",
       "      <td>1080.000000</td>\n",
       "      <td>400.000000</td>\n",
       "      <td>3</td>\n",
       "    </tr>\n",
       "    <tr>\n",
       "      <th>413148</th>\n",
       "      <td>1120.000000</td>\n",
       "      <td>560.000000</td>\n",
       "      <td>3</td>\n",
       "    </tr>\n",
       "    <tr>\n",
       "      <th>506130</th>\n",
       "      <td>2880.000000</td>\n",
       "      <td>420.000000</td>\n",
       "      <td>1</td>\n",
       "    </tr>\n",
       "    <tr>\n",
       "      <th>558705</th>\n",
       "      <td>1980.000000</td>\n",
       "      <td>420.000000</td>\n",
       "      <td>2</td>\n",
       "    </tr>\n",
       "    <tr>\n",
       "      <th>616850</th>\n",
       "      <td>1051.034483</td>\n",
       "      <td>415.862069</td>\n",
       "      <td>29</td>\n",
       "    </tr>\n",
       "    <tr>\n",
       "      <th>618226</th>\n",
       "      <td>1125.000000</td>\n",
       "      <td>405.000000</td>\n",
       "      <td>4</td>\n",
       "    </tr>\n",
       "    <tr>\n",
       "      <th>780490</th>\n",
       "      <td>1680.000000</td>\n",
       "      <td>380.000000</td>\n",
       "      <td>3</td>\n",
       "    </tr>\n",
       "    <tr>\n",
       "      <th>788101</th>\n",
       "      <td>1280.000000</td>\n",
       "      <td>440.000000</td>\n",
       "      <td>6</td>\n",
       "    </tr>\n",
       "    <tr>\n",
       "      <th>859203</th>\n",
       "      <td>1290.000000</td>\n",
       "      <td>450.000000</td>\n",
       "      <td>4</td>\n",
       "    </tr>\n",
       "    <tr>\n",
       "      <th>901274</th>\n",
       "      <td>1052.727273</td>\n",
       "      <td>512.727273</td>\n",
       "      <td>11</td>\n",
       "    </tr>\n",
       "    <tr>\n",
       "      <th>906082</th>\n",
       "      <td>1420.000000</td>\n",
       "      <td>493.333333</td>\n",
       "      <td>9</td>\n",
       "    </tr>\n",
       "    <tr>\n",
       "      <th>980156</th>\n",
       "      <td>1110.000000</td>\n",
       "      <td>300.000000</td>\n",
       "      <td>2</td>\n",
       "    </tr>\n",
       "  </tbody>\n",
       "</table>\n",
       "</div>"
      ],
      "text/plain": [
       "                  AHT         AST  call_count\n",
       "agent_id                                     \n",
       "102574    3600.000000  480.000000           2\n",
       "136065    1800.000000  420.000000           7\n",
       "140146    2620.000000  360.000000           3\n",
       "201204    1225.714286  402.857143           7\n",
       "255256    2620.000000  280.000000           3\n",
       "335773    1080.000000  420.000000           2\n",
       "336455    1740.000000  480.000000           3\n",
       "384932    1350.000000  600.000000           2\n",
       "391553    1080.000000  400.000000           3\n",
       "413148    1120.000000  560.000000           3\n",
       "506130    2880.000000  420.000000           1\n",
       "558705    1980.000000  420.000000           2\n",
       "616850    1051.034483  415.862069          29\n",
       "618226    1125.000000  405.000000           4\n",
       "780490    1680.000000  380.000000           3\n",
       "788101    1280.000000  440.000000           6\n",
       "859203    1290.000000  450.000000           4\n",
       "901274    1052.727273  512.727273          11\n",
       "906082    1420.000000  493.333333           9\n",
       "980156    1110.000000  300.000000           2"
      ]
     },
     "execution_count": 81,
     "metadata": {},
     "output_type": "execute_result"
    }
   ],
   "source": [
    "high_aht_agents"
   ]
  },
  {
   "cell_type": "code",
   "execution_count": 61,
   "id": "20b4f0e0-ceb5-43be-bde5-75e9f821636b",
   "metadata": {},
   "outputs": [],
   "source": [
    "# Identify Call Reasons with High AHT\n",
    "average_reason_aht = reason_metrics['AHT'].mean()\n",
    "std_reason_aht = reason_metrics['AHT'].std()\n",
    "high_aht_reasons = reason_metrics[reason_metrics['AHT'] > (average_reason_aht + std_reason_aht)]"
   ]
  },
  {
   "cell_type": "code",
   "execution_count": 82,
   "id": "abd656b2-4875-44bf-840a-5d25fed921a9",
   "metadata": {},
   "outputs": [
    {
     "data": {
      "text/html": [
       "<div>\n",
       "<style scoped>\n",
       "    .dataframe tbody tr th:only-of-type {\n",
       "        vertical-align: middle;\n",
       "    }\n",
       "\n",
       "    .dataframe tbody tr th {\n",
       "        vertical-align: top;\n",
       "    }\n",
       "\n",
       "    .dataframe thead th {\n",
       "        text-align: right;\n",
       "    }\n",
       "</style>\n",
       "<table border=\"1\" class=\"dataframe\">\n",
       "  <thead>\n",
       "    <tr style=\"text-align: right;\">\n",
       "      <th></th>\n",
       "      <th>AHT</th>\n",
       "      <th>AST</th>\n",
       "      <th>call_count</th>\n",
       "    </tr>\n",
       "    <tr>\n",
       "      <th>primary_call_reason</th>\n",
       "      <th></th>\n",
       "      <th></th>\n",
       "      <th></th>\n",
       "    </tr>\n",
       "  </thead>\n",
       "  <tbody>\n",
       "    <tr>\n",
       "      <th>Checkout</th>\n",
       "      <td>1008.358696</td>\n",
       "      <td>725.021739</td>\n",
       "      <td>1840</td>\n",
       "    </tr>\n",
       "    <tr>\n",
       "      <th>Checkout</th>\n",
       "      <td>1342.500000</td>\n",
       "      <td>712.500000</td>\n",
       "      <td>48</td>\n",
       "    </tr>\n",
       "    <tr>\n",
       "      <th>ETC</th>\n",
       "      <td>947.806452</td>\n",
       "      <td>544.903226</td>\n",
       "      <td>930</td>\n",
       "    </tr>\n",
       "    <tr>\n",
       "      <th>ETC</th>\n",
       "      <td>1600.909091</td>\n",
       "      <td>518.181818</td>\n",
       "      <td>22</td>\n",
       "    </tr>\n",
       "    <tr>\n",
       "      <th>Mileage   Plus</th>\n",
       "      <td>964.651163</td>\n",
       "      <td>366.976744</td>\n",
       "      <td>129</td>\n",
       "    </tr>\n",
       "    <tr>\n",
       "      <th>Mileage  Plus</th>\n",
       "      <td>1019.555556</td>\n",
       "      <td>351.555556</td>\n",
       "      <td>135</td>\n",
       "    </tr>\n",
       "    <tr>\n",
       "      <th>Mileage Plus</th>\n",
       "      <td>995.724440</td>\n",
       "      <td>361.224713</td>\n",
       "      <td>5487</td>\n",
       "    </tr>\n",
       "    <tr>\n",
       "      <th>Mileage Plus</th>\n",
       "      <td>994.800000</td>\n",
       "      <td>354.600000</td>\n",
       "      <td>100</td>\n",
       "    </tr>\n",
       "    <tr>\n",
       "      <th>Post Flight</th>\n",
       "      <td>976.729223</td>\n",
       "      <td>570.241287</td>\n",
       "      <td>373</td>\n",
       "    </tr>\n",
       "    <tr>\n",
       "      <th>Post-Flight</th>\n",
       "      <td>928.410442</td>\n",
       "      <td>569.294391</td>\n",
       "      <td>3869</td>\n",
       "    </tr>\n",
       "    <tr>\n",
       "      <th>Post-Flight</th>\n",
       "      <td>944.318182</td>\n",
       "      <td>572.045455</td>\n",
       "      <td>88</td>\n",
       "    </tr>\n",
       "  </tbody>\n",
       "</table>\n",
       "</div>"
      ],
      "text/plain": [
       "                             AHT         AST  call_count\n",
       "primary_call_reason                                     \n",
       "Checkout             1008.358696  725.021739        1840\n",
       "Checkout             1342.500000  712.500000          48\n",
       "ETC                   947.806452  544.903226         930\n",
       "ETC                  1600.909091  518.181818          22\n",
       "Mileage   Plus        964.651163  366.976744         129\n",
       "Mileage  Plus        1019.555556  351.555556         135\n",
       "Mileage Plus          995.724440  361.224713        5487\n",
       "Mileage Plus          994.800000  354.600000         100\n",
       "Post Flight           976.729223  570.241287         373\n",
       "Post-Flight           928.410442  569.294391        3869\n",
       "Post-Flight           944.318182  572.045455          88"
      ]
     },
     "execution_count": 82,
     "metadata": {},
     "output_type": "execute_result"
    }
   ],
   "source": [
    "high_aht_reasons"
   ]
  },
  {
   "cell_type": "code",
   "execution_count": 62,
   "id": "8e0c040b-a36e-4a52-91b4-751f2338c350",
   "metadata": {},
   "outputs": [],
   "source": [
    "# Identify Patterns Over Time\n",
    "hourly_metrics = df.groupby('call_start_hour').agg({\n",
    "    'handle_time': 'mean',\n",
    "    'waiting_time': 'mean',\n",
    "    'call_id': 'count'\n",
    "}).rename(columns={\n",
    "    'handle_time': 'Average_Handle_Time',\n",
    "    'waiting_time': 'Average_Waiting_Time',\n",
    "    'call_id': 'Call_Volume'\n",
    "})"
   ]
  },
  {
   "cell_type": "code",
   "execution_count": 63,
   "id": "af1029ae-2866-495e-acc5-f05a69488b52",
   "metadata": {},
   "outputs": [
    {
     "data": {
      "image/png": "[encoded data removed]",
      "text/plain": [
       "<Figure size 1200x600 with 1 Axes>"
      ]
     },
     "metadata": {},
     "output_type": "display_data"
    }
   ],
   "source": [
    "# Plot AHT and AST Over Hours\n",
    "plt.figure(figsize=(12, 6))\n",
    "sns.lineplot(data=hourly_metrics, x=hourly_metrics.index, y='Average_Handle_Time', label='AHT')\n",
    "sns.lineplot(data=hourly_metrics, x=hourly_metrics.index, y='Average_Waiting_Time', label='AST')\n",
    "plt.title('AHT and AST Over Different Hours of the Day')\n",
    "plt.xlabel('Hour of the Day')\n",
    "plt.ylabel('Time (seconds)')\n",
    "plt.legend()\n",
    "plt.show()"
   ]
  },
  {
   "cell_type": "code",
   "execution_count": 64,
   "id": "88f353e1-e2c3-47da-9c78-14c390414e1b",
   "metadata": {},
   "outputs": [],
   "source": [
    "# Correlation Analysis\n",
    "correlation_matrix = df[['handle_time', 'waiting_time', 'agent_tone_encoded', 'customer_tone_encoded', 'average_sentiment', 'silence_ratio']].corr()"
   ]
  },
  {
   "cell_type": "code",
   "execution_count": 65,
   "id": "8db9e1ba-46b6-4634-bc31-8c479c47ff17",
   "metadata": {},
   "outputs": [
    {
     "data": {
      "image/png": "[encoded data removed]",
      "text/plain": [
       "<Figure size 800x600 with 2 Axes>"
      ]
     },
     "metadata": {},
     "output_type": "display_data"
    }
   ],
   "source": [
    "plt.figure(figsize=(8, 6))\n",
    "sns.heatmap(correlation_matrix, annot=True, cmap='coolwarm')\n",
    "plt.title('Correlation Matrix')\n",
    "plt.show()"
   ]
  },
  {
   "cell_type": "code",
   "execution_count": 66,
   "id": "0d83765e-e21d-4a23-a48c-f9e3b25a35bb",
   "metadata": {},
   "outputs": [],
   "source": [
    "# Calculate AHT and AST per Agent\n",
    "agent_performance = df.groupby('agent_id').agg({\n",
    "    'handle_time': 'mean',\n",
    "    'waiting_time': 'mean',\n",
    "    'call_id': 'count'\n",
    "}).rename(columns={\n",
    "    'handle_time': 'AHT',\n",
    "    'waiting_time': 'AST',\n",
    "    'call_id': 'call_count'\n",
    "})\n",
    "\n",
    "# Identify agents with high and low AHT\n",
    "average_AHT = agent_performance['AHT'].mean()\n",
    "std_AHT = agent_performance['AHT'].std()\n",
    "high_AHT_agents = agent_performance[agent_performance['AHT'] > (average_AHT + std_AHT)]\n",
    "low_AHT_agents = agent_performance[agent_performance['AHT'] < (average_AHT - std_AHT)]\n",
    "\n",
    "# Identify agents with high and low AST\n",
    "average_AST = agent_performance['AST'].mean()\n",
    "std_AST = agent_performance['AST'].std()\n",
    "high_AST_agents = agent_performance[agent_performance['AST'] > (average_AST + std_AST)]\n",
    "low_AST_agents = agent_performance[agent_performance['AST'] < (average_AST - std_AST)]"
   ]
  },
  {
   "cell_type": "code",
   "execution_count": 83,
   "id": "d5185245-69e0-458b-aaf4-6c98d03b5d01",
   "metadata": {},
   "outputs": [
    {
     "data": {
      "text/html": [
       "<div>\n",
       "<style scoped>\n",
       "    .dataframe tbody tr th:only-of-type {\n",
       "        vertical-align: middle;\n",
       "    }\n",
       "\n",
       "    .dataframe tbody tr th {\n",
       "        vertical-align: top;\n",
       "    }\n",
       "\n",
       "    .dataframe thead th {\n",
       "        text-align: right;\n",
       "    }\n",
       "</style>\n",
       "<table border=\"1\" class=\"dataframe\">\n",
       "  <thead>\n",
       "    <tr style=\"text-align: right;\">\n",
       "      <th></th>\n",
       "      <th>AHT</th>\n",
       "      <th>AST</th>\n",
       "      <th>call_count</th>\n",
       "    </tr>\n",
       "    <tr>\n",
       "      <th>agent_id</th>\n",
       "      <th></th>\n",
       "      <th></th>\n",
       "      <th></th>\n",
       "    </tr>\n",
       "  </thead>\n",
       "  <tbody>\n",
       "    <tr>\n",
       "      <th>102574</th>\n",
       "      <td>3600.000000</td>\n",
       "      <td>480.000000</td>\n",
       "      <td>2</td>\n",
       "    </tr>\n",
       "    <tr>\n",
       "      <th>136065</th>\n",
       "      <td>1800.000000</td>\n",
       "      <td>420.000000</td>\n",
       "      <td>7</td>\n",
       "    </tr>\n",
       "    <tr>\n",
       "      <th>140146</th>\n",
       "      <td>2620.000000</td>\n",
       "      <td>360.000000</td>\n",
       "      <td>3</td>\n",
       "    </tr>\n",
       "    <tr>\n",
       "      <th>201204</th>\n",
       "      <td>1225.714286</td>\n",
       "      <td>402.857143</td>\n",
       "      <td>7</td>\n",
       "    </tr>\n",
       "    <tr>\n",
       "      <th>255256</th>\n",
       "      <td>2620.000000</td>\n",
       "      <td>280.000000</td>\n",
       "      <td>3</td>\n",
       "    </tr>\n",
       "    <tr>\n",
       "      <th>335773</th>\n",
       "      <td>1080.000000</td>\n",
       "      <td>420.000000</td>\n",
       "      <td>2</td>\n",
       "    </tr>\n",
       "    <tr>\n",
       "      <th>336455</th>\n",
       "      <td>1740.000000</td>\n",
       "      <td>480.000000</td>\n",
       "      <td>3</td>\n",
       "    </tr>\n",
       "    <tr>\n",
       "      <th>384932</th>\n",
       "      <td>1350.000000</td>\n",
       "      <td>600.000000</td>\n",
       "      <td>2</td>\n",
       "    </tr>\n",
       "    <tr>\n",
       "      <th>391553</th>\n",
       "      <td>1080.000000</td>\n",
       "      <td>400.000000</td>\n",
       "      <td>3</td>\n",
       "    </tr>\n",
       "    <tr>\n",
       "      <th>413148</th>\n",
       "      <td>1120.000000</td>\n",
       "      <td>560.000000</td>\n",
       "      <td>3</td>\n",
       "    </tr>\n",
       "    <tr>\n",
       "      <th>506130</th>\n",
       "      <td>2880.000000</td>\n",
       "      <td>420.000000</td>\n",
       "      <td>1</td>\n",
       "    </tr>\n",
       "    <tr>\n",
       "      <th>558705</th>\n",
       "      <td>1980.000000</td>\n",
       "      <td>420.000000</td>\n",
       "      <td>2</td>\n",
       "    </tr>\n",
       "    <tr>\n",
       "      <th>616850</th>\n",
       "      <td>1051.034483</td>\n",
       "      <td>415.862069</td>\n",
       "      <td>29</td>\n",
       "    </tr>\n",
       "    <tr>\n",
       "      <th>618226</th>\n",
       "      <td>1125.000000</td>\n",
       "      <td>405.000000</td>\n",
       "      <td>4</td>\n",
       "    </tr>\n",
       "    <tr>\n",
       "      <th>780490</th>\n",
       "      <td>1680.000000</td>\n",
       "      <td>380.000000</td>\n",
       "      <td>3</td>\n",
       "    </tr>\n",
       "    <tr>\n",
       "      <th>788101</th>\n",
       "      <td>1280.000000</td>\n",
       "      <td>440.000000</td>\n",
       "      <td>6</td>\n",
       "    </tr>\n",
       "    <tr>\n",
       "      <th>859203</th>\n",
       "      <td>1290.000000</td>\n",
       "      <td>450.000000</td>\n",
       "      <td>4</td>\n",
       "    </tr>\n",
       "    <tr>\n",
       "      <th>901274</th>\n",
       "      <td>1052.727273</td>\n",
       "      <td>512.727273</td>\n",
       "      <td>11</td>\n",
       "    </tr>\n",
       "    <tr>\n",
       "      <th>906082</th>\n",
       "      <td>1420.000000</td>\n",
       "      <td>493.333333</td>\n",
       "      <td>9</td>\n",
       "    </tr>\n",
       "    <tr>\n",
       "      <th>980156</th>\n",
       "      <td>1110.000000</td>\n",
       "      <td>300.000000</td>\n",
       "      <td>2</td>\n",
       "    </tr>\n",
       "  </tbody>\n",
       "</table>\n",
       "</div>"
      ],
      "text/plain": [
       "                  AHT         AST  call_count\n",
       "agent_id                                     \n",
       "102574    3600.000000  480.000000           2\n",
       "136065    1800.000000  420.000000           7\n",
       "140146    2620.000000  360.000000           3\n",
       "201204    1225.714286  402.857143           7\n",
       "255256    2620.000000  280.000000           3\n",
       "335773    1080.000000  420.000000           2\n",
       "336455    1740.000000  480.000000           3\n",
       "384932    1350.000000  600.000000           2\n",
       "391553    1080.000000  400.000000           3\n",
       "413148    1120.000000  560.000000           3\n",
       "506130    2880.000000  420.000000           1\n",
       "558705    1980.000000  420.000000           2\n",
       "616850    1051.034483  415.862069          29\n",
       "618226    1125.000000  405.000000           4\n",
       "780490    1680.000000  380.000000           3\n",
       "788101    1280.000000  440.000000           6\n",
       "859203    1290.000000  450.000000           4\n",
       "901274    1052.727273  512.727273          11\n",
       "906082    1420.000000  493.333333           9\n",
       "980156    1110.000000  300.000000           2"
      ]
     },
     "execution_count": 83,
     "metadata": {},
     "output_type": "execute_result"
    }
   ],
   "source": [
    "high_AHT_agents"
   ]
  },
  {
   "cell_type": "code",
   "execution_count": 67,
   "id": "49b5da7c-49a7-4c5a-b1f1-7e41e0c3bd48",
   "metadata": {},
   "outputs": [],
   "source": [
    "# Calculate AHT and AST per Primary Call Reason\n",
    "call_reason_performance = df.groupby('primary_call_reason').agg({\n",
    "    'handle_time': 'mean',\n",
    "    'waiting_time': 'mean',\n",
    "    'call_id': 'count'\n",
    "}).rename(columns={\n",
    "    'handle_time': 'AHT',\n",
    "    'waiting_time': 'AST',\n",
    "    'call_id': 'call_count'\n",
    "})\n",
    "\n",
    "# Identify call reasons with high and low AHT\n",
    "average_reason_AHT = call_reason_performance['AHT'].mean()\n",
    "std_reason_AHT = call_reason_performance['AHT'].std()\n",
    "high_AHT_reasons = call_reason_performance[call_reason_performance['AHT'] > (average_reason_AHT + std_reason_AHT)]\n",
    "low_AHT_reasons = call_reason_performance[call_reason_performance['AHT'] < (average_reason_AHT - std_reason_AHT)]\n",
    "\n",
    "# Identify call reasons with high and low AST\n",
    "average_reason_AST = call_reason_performance['AST'].mean()\n",
    "std_reason_AST = call_reason_performance['AST'].std()\n",
    "high_AST_reasons = call_reason_performance[call_reason_performance['AST'] > (average_reason_AST + std_reason_AST)]\n",
    "low_AST_reasons = call_reason_performance[call_reason_performance['AST'] < (average_reason_AST - std_reason_AST)]"
   ]
  },
  {
   "cell_type": "code",
   "execution_count": 68,
   "id": "5ec99878-152d-482f-9406-b39c9bca3b02",
   "metadata": {},
   "outputs": [
    {
     "data": {
      "image/png": "[encoded data removed]",
      "text/plain": [
       "<Figure size 800x600 with 2 Axes>"
      ]
     },
     "metadata": {},
     "output_type": "display_data"
    }
   ],
   "source": [
    "# Prepare Data for Correlation Analysis\n",
    "sentiment_data = df[['handle_time', 'waiting_time', 'agent_tone_encoded', 'customer_tone_encoded', 'average_sentiment']]\n",
    "\n",
    "# Compute Correlation Matrix\n",
    "sentiment_correlations = sentiment_data.corr()\n",
    "\n",
    "plt.figure(figsize=(8,6))\n",
    "sns.heatmap(sentiment_correlations, annot=True, cmap='coolwarm')\n",
    "plt.title('Correlation Matrix Between Sentiment Factors and Call Durations')\n",
    "plt.show()"
   ]
  },
  {
   "cell_type": "code",
   "execution_count": 71,
   "id": "e0826feb-9e42-433b-9f9d-bd750b952935",
   "metadata": {},
   "outputs": [
    {
     "name": "stdout",
     "output_type": "stream",
     "text": [
      "Collecting statsmodels\n",
      "  Downloading statsmodels-0.14.4-cp313-cp313-win_amd64.whl.metadata (9.5 kB)\n",
      "Requirement already satisfied: numpy<3,>=1.22.3 in c:\\users\\divyanshu\\appdata\\local\\programs\\python\\python313\\lib\\site-packages (from statsmodels) (2.1.2)\n",
      "Collecting scipy!=1.9.2,>=1.8 (from statsmodels)\n",
      "  Downloading scipy-1.14.1-cp313-cp313-win_amd64.whl.metadata (60 kB)\n",
      "Requirement already satisfied: pandas!=2.1.0,>=1.4 in c:\\users\\divyanshu\\appdata\\local\\programs\\python\\python313\\lib\\site-packages (from statsmodels) (2.2.3)\n",
      "Collecting patsy>=0.5.6 (from statsmodels)\n",
      "  Downloading patsy-0.5.6-py2.py3-none-any.whl.metadata (3.5 kB)\n",
      "Requirement already satisfied: packaging>=21.3 in c:\\users\\divyanshu\\appdata\\local\\programs\\python\\python313\\lib\\site-packages (from statsmodels) (24.1)\n",
      "Requirement already satisfied: python-dateutil>=2.8.2 in c:\\users\\divyanshu\\appdata\\local\\programs\\python\\python313\\lib\\site-packages (from pandas!=2.1.0,>=1.4->statsmodels) (2.9.0.post0)\n",
      "Requirement already satisfied: pytz>=2020.1 in c:\\users\\divyanshu\\appdata\\local\\programs\\python\\python313\\lib\\site-packages (from pandas!=2.1.0,>=1.4->statsmodels) (2024.2)\n",
      "Requirement already satisfied: tzdata>=2022.7 in c:\\users\\divyanshu\\appdata\\local\\programs\\python\\python313\\lib\\site-packages (from pandas!=2.1.0,>=1.4->statsmodels) (2024.2)\n",
      "Requirement already satisfied: six in c:\\users\\divyanshu\\appdata\\local\\programs\\python\\python313\\lib\\site-packages (from patsy>=0.5.6->statsmodels) (1.16.0)\n",
      "Downloading statsmodels-0.14.4-cp313-cp313-win_amd64.whl (9.8 MB)\n",
      "   ---------------------------------------- 0.0/9.8 MB ? eta -:--:--\n",
      "   -- ------------------------------------- 0.5/9.8 MB 3.3 MB/s eta 0:00:03\n",
      "   ---------- ----------------------------- 2.6/9.8 MB 8.1 MB/s eta 0:00:01\n",
      "   ---------------------------------------  9.7/9.8 MB 20.0 MB/s eta 0:00:01\n",
      "   ---------------------------------------- 9.8/9.8 MB 18.5 MB/s eta 0:00:00\n",
      "Downloading patsy-0.5.6-py2.py3-none-any.whl (233 kB)\n",
      "Downloading scipy-1.14.1-cp313-cp313-win_amd64.whl (44.5 MB)\n",
      "   ---------------------------------------- 0.0/44.5 MB ? eta -:--:--\n",
      "   -------- ------------------------------- 10.0/44.5 MB 76.2 MB/s eta 0:00:01\n",
      "   -------------------------- ------------- 29.6/44.5 MB 71.9 MB/s eta 0:00:01\n",
      "   ---------------------------------------  44.3/44.5 MB 74.9 MB/s eta 0:00:01\n",
      "   ---------------------------------------  44.3/44.5 MB 74.9 MB/s eta 0:00:01\n",
      "   ---------------------------------------- 44.5/44.5 MB 52.7 MB/s eta 0:00:00\n",
      "Installing collected packages: scipy, patsy, statsmodels\n",
      "Successfully installed patsy-0.5.6 scipy-1.14.1 statsmodels-0.14.4\n"
     ]
    }
   ],
   "source": [
    "!python -m pip install statsmodels"
   ]
  },
  {
   "cell_type": "code",
   "execution_count": 72,
   "id": "0d72abd5-80b5-420b-a6d1-586a8eeb0710",
   "metadata": {},
   "outputs": [
    {
     "name": "stdout",
     "output_type": "stream",
     "text": [
      "                            OLS Regression Results                            \n",
      "==============================================================================\n",
      "Dep. Variable:            handle_time   R-squared:                       0.008\n",
      "Model:                            OLS   Adj. R-squared:                  0.007\n",
      "Method:                 Least Squares   F-statistic:                     181.7\n",
      "Date:                Tue, 08 Oct 2024   Prob (F-statistic):          2.26e-117\n",
      "Time:                        20:36:34   Log-Likelihood:            -5.7930e+05\n",
      "No. Observations:               71810   AIC:                         1.159e+06\n",
      "Df Residuals:                   71806   BIC:                         1.159e+06\n",
      "Df Model:                           3                                         \n",
      "Covariance Type:            nonrobust                                         \n",
      "=========================================================================================\n",
      "                            coef    std err          t      P>|t|      [0.025      0.975]\n",
      "-----------------------------------------------------------------------------------------\n",
      "const                   644.0250      4.583    140.517      0.000     635.042     653.008\n",
      "agent_tone_encoded       99.0239      8.829     11.216      0.000      81.720     116.328\n",
      "customer_tone_encoded    -0.7163      2.035     -0.352      0.725      -4.705       3.272\n",
      "average_sentiment      -744.3239     35.890    -20.739      0.000    -814.668    -673.980\n",
      "==============================================================================\n",
      "Omnibus:                    42869.244   Durbin-Watson:                   1.988\n",
      "Prob(Omnibus):                  0.000   Jarque-Bera (JB):           448811.841\n",
      "Skew:                           2.757   Prob(JB):                         0.00\n",
      "Kurtosis:                      13.936   Cond. No.                         18.1\n",
      "==============================================================================\n",
      "\n",
      "Notes:\n",
      "[1] Standard Errors assume that the covariance matrix of the errors is correctly specified.\n"
     ]
    }
   ],
   "source": [
    "# Regression Analysis on Handle Time\n",
    "import statsmodels.api as sm\n",
    "\n",
    "X = df[['agent_tone_encoded', 'customer_tone_encoded', 'average_sentiment']]\n",
    "y = df['handle_time']\n",
    "X = sm.add_constant(X)\n",
    "model = sm.OLS(y, X).fit()\n",
    "print(model.summary())"
   ]
  },
  {
   "cell_type": "code",
   "execution_count": 73,
   "id": "b4c57227-8005-4dc8-a47e-27706dd69d5f",
   "metadata": {},
   "outputs": [],
   "source": [
    "# Calculate Average AST and Call Volume per Hour\n",
    "hourly_performance = df.groupby('call_start_hour').agg({\n",
    "    'waiting_time': 'mean',\n",
    "    'call_id': 'count'\n",
    "}).rename(columns={\n",
    "    'waiting_time': 'Average_AST',\n",
    "    'call_id': 'Call_Volume'\n",
    "})"
   ]
  },
  {
   "cell_type": "code",
   "execution_count": 84,
   "id": "c4c1fa42-a1fd-4c1a-b126-896abf7f9f3c",
   "metadata": {},
   "outputs": [
    {
     "data": {
      "text/html": [
       "<div>\n",
       "<style scoped>\n",
       "    .dataframe tbody tr th:only-of-type {\n",
       "        vertical-align: middle;\n",
       "    }\n",
       "\n",
       "    .dataframe tbody tr th {\n",
       "        vertical-align: top;\n",
       "    }\n",
       "\n",
       "    .dataframe thead th {\n",
       "        text-align: right;\n",
       "    }\n",
       "</style>\n",
       "<table border=\"1\" class=\"dataframe\">\n",
       "  <thead>\n",
       "    <tr style=\"text-align: right;\">\n",
       "      <th></th>\n",
       "      <th>Average_AST</th>\n",
       "      <th>Call_Volume</th>\n",
       "    </tr>\n",
       "    <tr>\n",
       "      <th>call_start_hour</th>\n",
       "      <th></th>\n",
       "      <th></th>\n",
       "    </tr>\n",
       "  </thead>\n",
       "  <tbody>\n",
       "    <tr>\n",
       "      <th>0</th>\n",
       "      <td>438.831735</td>\n",
       "      <td>1147</td>\n",
       "    </tr>\n",
       "    <tr>\n",
       "      <th>1</th>\n",
       "      <td>432.362345</td>\n",
       "      <td>1126</td>\n",
       "    </tr>\n",
       "    <tr>\n",
       "      <th>2</th>\n",
       "      <td>436.825095</td>\n",
       "      <td>1052</td>\n",
       "    </tr>\n",
       "    <tr>\n",
       "      <th>3</th>\n",
       "      <td>440.823199</td>\n",
       "      <td>1069</td>\n",
       "    </tr>\n",
       "    <tr>\n",
       "      <th>4</th>\n",
       "      <td>430.235627</td>\n",
       "      <td>1061</td>\n",
       "    </tr>\n",
       "    <tr>\n",
       "      <th>5</th>\n",
       "      <td>438.423913</td>\n",
       "      <td>1104</td>\n",
       "    </tr>\n",
       "    <tr>\n",
       "      <th>6</th>\n",
       "      <td>431.111111</td>\n",
       "      <td>1080</td>\n",
       "    </tr>\n",
       "    <tr>\n",
       "      <th>7</th>\n",
       "      <td>450.259901</td>\n",
       "      <td>1616</td>\n",
       "    </tr>\n",
       "    <tr>\n",
       "      <th>8</th>\n",
       "      <td>440.781220</td>\n",
       "      <td>5197</td>\n",
       "    </tr>\n",
       "    <tr>\n",
       "      <th>9</th>\n",
       "      <td>438.616801</td>\n",
       "      <td>5321</td>\n",
       "    </tr>\n",
       "    <tr>\n",
       "      <th>10</th>\n",
       "      <td>436.376226</td>\n",
       "      <td>5199</td>\n",
       "    </tr>\n",
       "    <tr>\n",
       "      <th>11</th>\n",
       "      <td>436.029748</td>\n",
       "      <td>5244</td>\n",
       "    </tr>\n",
       "    <tr>\n",
       "      <th>12</th>\n",
       "      <td>438.881356</td>\n",
       "      <td>5310</td>\n",
       "    </tr>\n",
       "    <tr>\n",
       "      <th>13</th>\n",
       "      <td>433.966718</td>\n",
       "      <td>5168</td>\n",
       "    </tr>\n",
       "    <tr>\n",
       "      <th>14</th>\n",
       "      <td>438.413554</td>\n",
       "      <td>5194</td>\n",
       "    </tr>\n",
       "    <tr>\n",
       "      <th>15</th>\n",
       "      <td>435.549981</td>\n",
       "      <td>5182</td>\n",
       "    </tr>\n",
       "    <tr>\n",
       "      <th>16</th>\n",
       "      <td>435.949512</td>\n",
       "      <td>5229</td>\n",
       "    </tr>\n",
       "    <tr>\n",
       "      <th>17</th>\n",
       "      <td>438.347676</td>\n",
       "      <td>5229</td>\n",
       "    </tr>\n",
       "    <tr>\n",
       "      <th>18</th>\n",
       "      <td>433.709161</td>\n",
       "      <td>4683</td>\n",
       "    </tr>\n",
       "    <tr>\n",
       "      <th>19</th>\n",
       "      <td>446.270270</td>\n",
       "      <td>1110</td>\n",
       "    </tr>\n",
       "    <tr>\n",
       "      <th>20</th>\n",
       "      <td>437.436348</td>\n",
       "      <td>1139</td>\n",
       "    </tr>\n",
       "    <tr>\n",
       "      <th>21</th>\n",
       "      <td>439.638336</td>\n",
       "      <td>1106</td>\n",
       "    </tr>\n",
       "    <tr>\n",
       "      <th>22</th>\n",
       "      <td>428.586667</td>\n",
       "      <td>1125</td>\n",
       "    </tr>\n",
       "    <tr>\n",
       "      <th>23</th>\n",
       "      <td>428.203753</td>\n",
       "      <td>1119</td>\n",
       "    </tr>\n",
       "  </tbody>\n",
       "</table>\n",
       "</div>"
      ],
      "text/plain": [
       "                 Average_AST  Call_Volume\n",
       "call_start_hour                          \n",
       "0                 438.831735         1147\n",
       "1                 432.362345         1126\n",
       "2                 436.825095         1052\n",
       "3                 440.823199         1069\n",
       "4                 430.235627         1061\n",
       "5                 438.423913         1104\n",
       "6                 431.111111         1080\n",
       "7                 450.259901         1616\n",
       "8                 440.781220         5197\n",
       "9                 438.616801         5321\n",
       "10                436.376226         5199\n",
       "11                436.029748         5244\n",
       "12                438.881356         5310\n",
       "13                433.966718         5168\n",
       "14                438.413554         5194\n",
       "15                435.549981         5182\n",
       "16                435.949512         5229\n",
       "17                438.347676         5229\n",
       "18                433.709161         4683\n",
       "19                446.270270         1110\n",
       "20                437.436348         1139\n",
       "21                439.638336         1106\n",
       "22                428.586667         1125\n",
       "23                428.203753         1119"
      ]
     },
     "execution_count": 84,
     "metadata": {},
     "output_type": "execute_result"
    }
   ],
   "source": [
    "hourly_performance"
   ]
  },
  {
   "cell_type": "code",
   "execution_count": 74,
   "id": "3a40f7f0-3d64-45b9-bc87-7fa4669c0c10",
   "metadata": {},
   "outputs": [
    {
     "data": {
      "image/png": "[encoded data removed]",
      "text/plain": [
       "<Figure size 1200x600 with 1 Axes>"
      ]
     },
     "metadata": {},
     "output_type": "display_data"
    }
   ],
   "source": [
    "# Identify Peak Hours with High Call Volume\n",
    "average_call_volume = hourly_performance['Call_Volume'].mean()\n",
    "std_call_volume = hourly_performance['Call_Volume'].std()\n",
    "peak_hours = hourly_performance[hourly_performance['Call_Volume'] > (average_call_volume + std_call_volume)]\n",
    "\n",
    "# Plot Call Volume and AST Over Hours\n",
    "plt.figure(figsize=(12,6))\n",
    "sns.lineplot(data=hourly_performance, x=hourly_performance.index, y='Call_Volume', marker='o', label='Call Volume')\n",
    "plt.xlabel('Hour of Day')\n",
    "plt.ylabel('Call Volume')\n",
    "plt.title('Call Volume by Hour')\n",
    "plt.legend()\n",
    "plt.show()"
   ]
  },
  {
   "cell_type": "code",
   "execution_count": 75,
   "id": "a2a7bd8a-6f1a-4411-ae1e-9d2ad723bbdb",
   "metadata": {},
   "outputs": [
    {
     "data": {
      "image/png": "[encoded data removed]",
      "text/plain": [
       "<Figure size 1200x600 with 1 Axes>"
      ]
     },
     "metadata": {},
     "output_type": "display_data"
    }
   ],
   "source": [
    "plt.figure(figsize=(12,6))\n",
    "sns.lineplot(data=hourly_performance, x=hourly_performance.index, y='Average_AST', marker='o', color='red', label='Average AST')\n",
    "plt.xlabel('Hour of Day')\n",
    "plt.ylabel('Average AST (seconds)')\n",
    "plt.title('Average AST by Hour')\n",
    "plt.legend()\n",
    "plt.show()"
   ]
  },
  {
   "cell_type": "code",
   "execution_count": 76,
   "id": "35ef622a-2da2-4d80-8648-e9ec80c2e572",
   "metadata": {},
   "outputs": [],
   "source": [
    "# Analyze AST During Peak and Non-Peak Hours\n",
    "peak_hours_list = peak_hours.index.tolist()\n",
    "df['is_peak_hour'] = df['call_start_hour'].apply(lambda x: 1 if x in peak_hours_list else 0)\n",
    "\n",
    "peak_ast = df[df['is_peak_hour'] == 1]['waiting_time'].mean()\n",
    "non_peak_ast = df[df['is_peak_hour'] == 0]['waiting_time'].mean()"
   ]
  },
  {
   "cell_type": "code",
   "execution_count": 86,
   "id": "8a686499-d95a-411d-8fb8-d51e4685a1b3",
   "metadata": {},
   "outputs": [
    {
     "data": {
      "text/plain": [
       "np.float64(436.4487894763782)"
      ]
     },
     "execution_count": 86,
     "metadata": {},
     "output_type": "execute_result"
    }
   ],
   "source": [
    "non_peak_ast"
   ]
  },
  {
   "cell_type": "code",
   "execution_count": 77,
   "id": "35161d94-de1a-4774-a77d-876f3d6b86b1",
   "metadata": {},
   "outputs": [
    {
     "name": "stdout",
     "output_type": "stream",
     "text": [
      "Most Frequent Call Reason: IRROPS, AHT: 785.49 seconds\n",
      "Least Frequent Call Reason: Unaccompanied Minor  , AHT: 180.00 seconds\n",
      "Percentage Difference in AHT: 336.38%\n"
     ]
    }
   ],
   "source": [
    "# Quantifying Percentage Difference between Most and Least Frequent Call Reasons\n",
    "\n",
    "# Get the count of calls per primary call reason\n",
    "call_reason_counts = df['primary_call_reason'].value_counts()\n",
    "\n",
    "# Identify the most frequent and least frequent call reasons\n",
    "most_frequent_reason = call_reason_counts.idxmax()\n",
    "least_frequent_reason = call_reason_counts.idxmin()\n",
    "\n",
    "# Calculate the average handling time for the most frequent call reason\n",
    "most_freq_aht = df[df['primary_call_reason'] == most_frequent_reason]['handle_time'].mean()\n",
    "\n",
    "# Calculate the average handling time for the least frequent call reason\n",
    "least_freq_aht = df[df['primary_call_reason'] == least_frequent_reason]['handle_time'].mean()\n",
    "\n",
    "# Compute the percentage difference between the two AHTs\n",
    "percentage_difference = ((most_freq_aht - least_freq_aht) / least_freq_aht) * 100\n",
    "\n",
    "# Print the results\n",
    "print(f\"Most Frequent Call Reason: {most_frequent_reason}, AHT: {most_freq_aht:.2f} seconds\")\n",
    "print(f\"Least Frequent Call Reason: {least_frequent_reason}, AHT: {least_freq_aht:.2f} seconds\")\n",
    "print(f\"Percentage Difference in AHT: {percentage_difference:.2f}%\")"
   ]
  },
  {
   "cell_type": "markdown",
   "id": "427465c1-3766-41e0-b0de-7e3e9dac1a74",
   "metadata": {},
   "source": [
    "# Summary of Key Findings\n",
    "\n",
    "## 1. Factors Contributing to Extended Call Durations (AHT and AST)\n",
    "\n",
    "Agent Performance:\n",
    "\n",
    "High AHT Agents: Identified agents with significantly higher Average Handle Time (AHT) than their peers.\n",
    "Action: Targeted training programs can help these agents improve efficiency.\n",
    "Call Types and Reasons:\n",
    "\n",
    "Most Frequent Call Reason: IRROPS (Irregular Operations), with an AHT of 785.49 seconds.\n",
    "Least Frequent Call Reason: Unaccompanied Minor, with an AHT of 180.00 seconds.\n",
    "Percentage Difference: There is a 336.38% difference in AHT between the most and least frequent call reasons.\n",
    "Insight: Complex call reasons like IRROPS require more time to resolve.\n",
    "Sentiment Analysis:\n",
    "\n",
    "Agent Tone:\n",
    "Positive agent tones (calm, polite) are associated with longer handle times.\n",
    "Agents may spend more time ensuring customer satisfaction.\n",
    "Customer Sentiment:\n",
    "Positive customer sentiment correlates with shorter handle times.\n",
    "Satisfied customers may require less time to resolve issues.\n",
    "Peak Hours and High Volume Periods:\n",
    "\n",
    "High Call Volume Hours: Identified specific hours with increased call volumes leading to higher AST.\n",
    "Impact: Increased AST during peak hours results in longer customer wait times.\n",
    "\n",
    "\n",
    "## 2. Quantifying Percentage Difference Between Call Reasons\n",
    "\n",
    "Most Frequent vs. Least Frequent Call Reasons:\n",
    "The significant percentage difference in AHT highlights the impact of call complexity on handling time.\n",
    "Focus Areas: Prioritize optimizing processes for the most frequent and time-consuming call reasons.\n",
    "\n",
    "\n",
    "## Actionable Recommendations\n",
    "\n",
    "1. Optimize Agent Performance:\n",
    "\n",
    "Training Programs: Implement targeted training for agents with high AHT to improve efficiency without compromising service quality.\n",
    "Best Practices: Share strategies from agents with low AHT to encourage efficient handling of calls.\n",
    "\n",
    "2. Streamline Processes for Complex Call Reasons:\n",
    "\n",
    "Standard Operating Procedures: Develop clear guidelines for handling IRROPS and other complex issues.\n",
    "Knowledge Base: Enhance resources available to agents for quick reference during calls.\n",
    "\n",
    "3. Enhance IVR System to Reduce Agent Intervention:\n",
    "\n",
    "Identify Self-Solvable Issues:\n",
    "Analyze call transcripts to pinpoint common issues that can be resolved via self-service.\n",
    "Update IVR Options:\n",
    "Incorporate these issues into the IVR menu to deflect calls from agents.\n",
    "User-Friendly Design:\n",
    "Ensure the IVR system is intuitive to encourage customer usage.\n",
    "\n",
    "4. Manage Peak Hour Call Volumes:\n",
    "\n",
    "Staffing Adjustments:\n",
    "Increase staffing during peak hours to reduce AST.\n",
    "Call Scheduling:\n",
    "Encourage customers to use off-peak times for non-urgent issues through messaging.\n",
    "\n",
    "5. Improve Customer Sentiment:\n",
    "\n",
    "Proactive Communication:\n",
    "Provide timely updates on known issues (e.g., flight delays) via multiple channels.\n",
    "Feedback Mechanisms:\n",
    "Implement surveys to gather customer feedback for continuous improvement."
   ]
  },
  {
   "cell_type": "code",
   "execution_count": null,
   "id": "2d3602dd-e892-4220-aabd-a2c669240575",
   "metadata": {},
   "outputs": [],
   "source": []
  }
 ],
 "metadata": {
  "kernelspec": {
   "display_name": "Python 3 (ipykernel)",
   "language": "python",
   "name": "python3"
  },
  "language_info": {
   "codemirror_mode": {
    "name": "ipython",
    "version": 3
   },
   "file_extension": ".py",
   "mimetype": "text/x-python",
   "name": "python",
   "nbconvert_exporter": "python",
   "pygments_lexer": "ipython3",
   "version": "3.13.0"
  }
 },
 "nbformat": 4,
 "nbformat_minor": 5
}
